{
 "cells": [
  {
   "cell_type": "markdown",
   "metadata": {},
   "source": [
    "# 아마존 리뷰 제목 감성분석"
   ]
  },
  {
   "cell_type": "code",
   "execution_count": 2,
   "metadata": {},
   "outputs": [],
   "source": [
    "import pandas as pd\n",
    "from textblob import TextBlob\n"
   ]
  },
  {
   "cell_type": "code",
   "execution_count": 3,
   "metadata": {},
   "outputs": [],
   "source": [
    "\n",
    "def sentiment_polar(i):\n",
    "    review = pd.read_csv(f'C:/Python/stuff{i}_review.csv')   \n",
    "    \n",
    "    title = list(review.Title)\n",
    "    content = list(review.Content)\n",
    "    \n",
    "    lst = []\n",
    "    tit_p = 0\n",
    "    con_p = 0\n",
    "    tit_s = 0\n",
    "    con_s = 0\n",
    "    \n",
    "\n",
    "    for a,b in zip(title,content):\n",
    "        try:\n",
    "            blob_t = TextBlob(a).sentiment\n",
    "            blob_c = TextBlob(b).sentiment\n",
    "            \n",
    "            lst.append([blob_t.polarity,blob_c.polarity])\n",
    "            \n",
    "            tit_p += blob_t.polarity\n",
    "            con_p += blob_c.polarity\n",
    "            tit_s += blob_t.subjectivity\n",
    "            con_s += blob_c.subjectivity\n",
    "        except:\n",
    "               pass\n",
    "            \n",
    "    # polarity와 subjectivity 평균값 구하기\n",
    "    tit_p_m = tit_p/len(title)\n",
    "    con_p_m = con_p/len(content)\n",
    "    tit_s_m = tit_s/len(title)\n",
    "    con_s_m = con_s/len(content)\n",
    "\n",
    "    return lst, [tit_p_m,con_p_m,tit_s_m,con_s_m]\n",
    "\n"
   ]
  },
  {
   "cell_type": "code",
   "execution_count": 5,
   "metadata": {},
   "outputs": [
    {
     "name": "stdout",
     "output_type": "stream",
     "text": [
      "product1 =  [[0.0, 0.075], [0.0, 0.075], [0.0, -0.35714285714285715], [0.28, 0.10124320124320124], [0.1, 0.014025172358505691], [0.5, 0.016666666666666673], [0.0175, 0.41500000000000004], [0.19444444444444445, 0.10246212121212121], [0.0, 0.1], [0.0, -0.215]]\n",
      "\n",
      " lst1 =  [0.17926322978209758, 0.13438354622762821, 0.3195745669861233, 0.4647645263601249]\n"
     ]
    }
   ],
   "source": [
    "product1,lst1 = sentiment_polar(1)\n",
    "product2,lst2 = sentiment_polar(2)\n",
    "product3,lst3 = sentiment_polar(3)\n",
    "product4,lst4 = sentiment_polar(4)\n",
    "product5,lst5 = sentiment_polar(5)\n",
    "product6,lst6 = sentiment_polar(6)\n",
    "\n",
    "print('product1 = ', product1[:10])\n",
    "print('\\n lst1 = ', lst1)\n",
    "\n",
    "\n",
    "lst1 = pd.Series(lst1)\n",
    "lst2 = pd.Series(lst2)\n",
    "lst3 = pd.Series(lst3)\n",
    "lst4 = pd.Series(lst4)\n",
    "lst5 = pd.Series(lst5)\n",
    "lst6 = pd.Series(lst6)"
   ]
  },
  {
   "cell_type": "code",
   "execution_count": 6,
   "metadata": {},
   "outputs": [],
   "source": [
    "\n",
    "def good_bad(num,lst):\n",
    "    if num == 0:\n",
    "        lst.append('중성')\n",
    "    elif 0.5 >= num > 0:\n",
    "        lst.append('긍정')\n",
    "    elif num > 0.5:\n",
    "        lst.append('아주 긍정')\n",
    "    elif -0.5 <= num < 0 :\n",
    "        lst.append('부정')\n",
    "    elif num < -0.5:\n",
    "        lst.append('아주 부정')\n",
    "        \n",
    "        "
   ]
  },
  {
   "cell_type": "code",
   "execution_count": 7,
   "metadata": {},
   "outputs": [],
   "source": [
    "def count_senti(lst):\n",
    "    \n",
    "    count_word = []\n",
    "    \n",
    "    for i in lst:\n",
    "        bb = i.count('아주 부정')\n",
    "        b = i.count('부정')\n",
    "        n = i.count('중성')\n",
    "        g = i.count('긍정')\n",
    "        gg = i.count('아주 긍정')\n",
    "        tot = len(i)\n",
    "        \n",
    "        txt = '아주부정:%d, 부정:%d, 중립:%d, 긍정:%d, 아주긍정:%d ->'%(\n",
    "            bb,b,n,g,gg) + '부정=%.1f'%((bb+b)/tot*100)+'%  ' + '긍정=%.1f'%((g+gg)/tot*100)+'%'\n",
    "        count_word.append(txt)\n",
    "    \n",
    "    return count_word        \n"
   ]
  },
  {
   "cell_type": "code",
   "execution_count": 8,
   "metadata": {},
   "outputs": [],
   "source": [
    "def new_solution(data):\n",
    "    lst_title = []\n",
    "    lst_content = []\n",
    "    lst_sum = []\n",
    "    lst_error = []\n",
    "\n",
    "    for i in range(len(data)):\n",
    "        good_bad(data[i][0],lst_title)\n",
    "        good_bad(data[i][1],lst_content)\n",
    "        good_bad(data[i][0]+data[i][1],lst_sum)\n",
    "    \n",
    "  \n",
    "    for i in range(len(lst_title)):\n",
    "        if '긍정' in lst_title[i] and '긍정' in lst_content[i]:\n",
    "            continue\n",
    "        if '부정' in lst_title[i] and '부정' in lst_content[i]:\n",
    "            continue\n",
    "        if '중성' in lst_title[i] and '중성' in lst_content[i]:\n",
    "            continue\n",
    "        else: \n",
    "            lst_error.append([i,data[i][0]+data[i][1]])\n",
    "\n",
    "     \n",
    "    cnt_word = count_senti([lst_sum])\n",
    "    \n",
    "    return lst_title ,lst_content, lst_sum, lst_error, cnt_word\n"
   ]
  },
  {
   "cell_type": "code",
   "execution_count": 9,
   "metadata": {},
   "outputs": [],
   "source": [
    "_,_,a,_,cnt_word1 = new_solution(product1)\n",
    "_,_,b,_,cnt_word2 = new_solution(product2)\n",
    "_,_,c,_,cnt_word3 = new_solution(product3)\n",
    "_,_,d,_,cnt_word4 = new_solution(product4)\n",
    "_,_,e,_,cnt_word5 = new_solution(product5)\n",
    "_,_,f,_,cnt_word6 = new_solution(product6)"
   ]
  },
  {
   "cell_type": "code",
   "execution_count": 10,
   "metadata": {},
   "outputs": [
    {
     "name": "stdout",
     "output_type": "stream",
     "text": [
      "     product1 product2 product3 product4 product5 non_product\n",
      "0          긍정       부정       긍정       부정    아주 긍정       아주 긍정\n",
      "1          긍정       긍정    아주 긍정    아주 긍정    아주 긍정          긍정\n",
      "2          부정    아주 부정    아주 긍정       긍정       긍정          긍정\n",
      "3          긍정    아주 긍정       긍정    아주 긍정    아주 긍정          긍정\n",
      "4          긍정    아주 긍정       긍정    아주 긍정       긍정          긍정\n",
      "...       ...      ...      ...      ...      ...         ...\n",
      "2599      NaN      NaN      NaN      NaN      NaN          긍정\n",
      "2600      NaN      NaN      NaN      NaN      NaN          부정\n",
      "2601      NaN      NaN      NaN      NaN      NaN       아주 긍정\n",
      "2602      NaN      NaN      NaN      NaN      NaN       아주 긍정\n",
      "2603      NaN      NaN      NaN      NaN      NaN       아주 긍정\n",
      "\n",
      "[2604 rows x 6 columns]\n",
      "                                                       감성분석 통계  title 감성분석 평균  \\\n",
      "product1     아주부정:20, 부정:109, 중립:33, 긍정:283, 아주긍정:191 ->부정=...       0.179263   \n",
      "product2     아주부정:2, 부정:3, 중립:0, 긍정:4, 아주긍정:17 ->부정=19.2%  ...       0.378147   \n",
      "product3     아주부정:1, 부정:1, 중립:5, 긍정:14, 아주긍정:20 ->부정=4.9%  ...       0.353659   \n",
      "product4     아주부정:2, 부정:17, 중립:5, 긍정:30, 아주긍정:31 ->부정=22.4%...       0.230722   \n",
      "product5     아주부정:15, 부정:109, 중립:4, 긍정:274, 아주긍정:100 ->부정=2...       0.139977   \n",
      "non_product  아주부정:37, 부정:245, 중립:107, 긍정:1017, 아주긍정:1198 ->...       0.291479   \n",
      "\n",
      "             content 감성분석 평균  title 주관도 평균  content 주관도 평균  \n",
      "product1            0.134384      0.319575        0.464765  \n",
      "product2            0.291871      0.473074        0.517988  \n",
      "product3            0.186928      0.369887        0.478554  \n",
      "product4            0.112205      0.322799        0.469969  \n",
      "product5            0.076480      0.310702        0.485305  \n",
      "non_product         0.220424      0.377122        0.506985  \n"
     ]
    }
   ],
   "source": [
    "from pandas import Series\n",
    "sentiment = pd.concat([Series(a),Series(b),Series(c),Series(d),Series(e),Series(f)],axis=1)\n",
    "sentiment.columns = ['product1','product2','product3','product4','product5','non_product']\n",
    "print(sentiment)\n",
    "\n",
    "# sentiment.to_csv('C:/2.Python/workspace/sentiment_tot_result.csv', encoding='euc-kr')\n",
    "\n",
    "result = pd.Series([cnt_word1[0],cnt_word2[0],cnt_word3[0],cnt_word4[0],cnt_word5[0],cnt_word6[0]])\n",
    "result.index = ['product1','product2','product3','product4','product5','non_product']\n",
    "\n",
    "mean_ = pd.concat([lst1,lst2,lst3,lst4,lst5,lst6],axis=1).T\n",
    "mean_.index = ['product1','product2','product3','product4','product5','non_product']\n",
    "\n",
    "final_new = pd.concat([result,mean_],axis=1)\n",
    "final_new.columns = ['감성분석 통계','title 감성분석 평균','content 감성분석 평균','title 주관도 평균','content 주관도 평균']\n",
    "print(final_new)\n",
    "\n",
    "# final_new.to_csv('C:/2.Python/workspace/sentiment_result.csv', encoding='euc-kr')\n"
   ]
  }
 ],
 "metadata": {
  "kernelspec": {
   "display_name": "Python 3",
   "language": "python",
   "name": "python3"
  },
  "language_info": {
   "codemirror_mode": {
    "name": "ipython",
    "version": 3
   },
   "file_extension": ".py",
   "mimetype": "text/x-python",
   "name": "python",
   "nbconvert_exporter": "python",
   "pygments_lexer": "ipython3",
   "version": "3.8.5"
  }
 },
 "nbformat": 4,
 "nbformat_minor": 4
}
