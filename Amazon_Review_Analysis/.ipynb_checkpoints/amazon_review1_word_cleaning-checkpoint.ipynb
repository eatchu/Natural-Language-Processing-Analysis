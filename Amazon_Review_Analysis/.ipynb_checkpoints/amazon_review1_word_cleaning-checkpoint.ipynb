{
 "cells": [
  {
   "cell_type": "markdown",
   "metadata": {},
   "source": [
    "# 아마존 숙취해소제 제품 리뷰 Textmining"
   ]
  },
  {
   "cell_type": "code",
   "execution_count": 1,
   "metadata": {},
   "outputs": [
    {
     "data": {
      "text/plain": [
       "'C:\\\\Jupyter_notebook\\\\Textmining'"
      ]
     },
     "execution_count": 1,
     "metadata": {},
     "output_type": "execute_result"
    }
   ],
   "source": [
    "import pandas as pd # 파일 읽기\n",
    "import nltk\n",
    "from nltk.tokenize import word_tokenize # 단어자르기\n",
    "from nltk.tokenize import sent_tokenize # 문장자르기\n",
    "from nltk.corpus import stopwords # 불용어 제거\n",
    "from nltk.stem import WordNetLemmatizer # 음소표기법\n",
    "from nltk.stem import SnowballStemmer # 어간추출\n",
    "import re # 문자열 처리\n",
    "import os\n",
    "os.getcwd()"
   ]
  },
  {
   "cell_type": "code",
   "execution_count": 2,
   "metadata": {},
   "outputs": [
    {
     "data": {
      "text/plain": [
       "array(['https://www.amazon.com/Labs-Hangovers-Supplement-Electrolyte-Replenishment/dp/B001EM7T34/ref=sr_1_15?crid=2VICL42W9PG0K&dchild=1&keywords=hangover+cure&qid=1597331954&sprefix=hangover%2Caps%2C345&sr=8-15',\n",
       "       'https://www.amazon.com/hangover-cure-Sangkwaehwan-3g-10pack/dp/B078HFGG47/ref=sr_1_23_sspa?crid=2VICL42W9PG0K&dchild=1&keywords=hangover+cure&qid=1597331954&sprefix=hangover%2Caps%2C345&sr=8-23-spons&psc=1&spLa=ZW5jcnlwdGVkUXVhbGlmaWVyPUEyVjNaMkxXMDU2VklTJmVuY3J5cHRlZElkPUEwNDM5OTI2M1JOSkFHUkdaSTAyUyZlbmNyeXB0ZWRBZElkPUEwMjY4NTI4M0hJRzlPQ1BZOEdLVCZ3aWRnZXROYW1lPXNwX210ZiZhY3Rpb249Y2xpY2tSZWRpcmVjdCZkb05vdExvZ0NsaWNrPXRydWU=',\n",
       "       'https://www.amazon.com/Liquid-I-V-Multiplier-Super-Charged-Supplement/dp/B0854MRV7W/ref=sr_1_4_sspa?crid=2VICL42W9PG0K&dchild=1&keywords=hangover+cure&qid=1597331954&sprefix=hangover%2Caps%2C345&sr=8-4-spons&psc=1&spLa=ZW5jcnlwdGVkUXVhbGlmaWVyPUEyVjNaMkxXMDU2VklTJmVuY3J5cHRlZElkPUEwNDM5OTI2M1JOSkFHUkdaSTAyUyZlbmNyeXB0ZWRBZElkPUEwMjE2MzEwM1NBVE1RNTVRN04xWSZ3aWRnZXROYW1lPXNwX2F0ZiZhY3Rpb249Y2xpY2tSZWRpcmVjdCZkb05vdExvZ0NsaWNrPXRydWU=',\n",
       "       'https://www.amazon.com/Morning-Hangover-Recovery-Activated-Charcoal/dp/B07HPGD8MT/ref=sr_1_25?crid=2VICL42W9PG0K&dchild=1&keywords=hangover+cure&qid=1597331954&sprefix=hangover%2Caps%2C345&sr=8-25',\n",
       "       'https://www.amazon.com/Flyby-Prevention-Dihydromyricetin-Chlorophyll-N-Acetyl-Cysteine/dp/B078YCFZ3F/ref=sr_1_1_sspa?crid=2VICL42W9PG0K&dchild=1&keywords=hangover+cure&qid=1597331954&sprefix=hangover%2Caps%2C345&sr=8-1-spons&psc=1&spLa=ZW5jcnlwdGVkUXVhbGlmaWVyPUEyVjNaMkxXMDU2VklTJmVuY3J5cHRlZElkPUEwNDM5OTI2M1JOSkFHUkdaSTAyUyZlbmNyeXB0ZWRBZElkPUEwNTI5NTg0MTJDUjc1OVdCMlNZWCZ3aWRnZXROYW1lPXNwX2F0ZiZhY3Rpb249Y2xpY2tSZWRpcmVjdCZkb05vdExvZ0NsaWNrPXRydWU=',\n",
       "       nan], dtype=object)"
      ]
     },
     "execution_count": 2,
     "metadata": {},
     "output_type": "execute_result"
    }
   ],
   "source": [
    "# read fil\n",
    "data = pd.read_excel('./20200828 amazon_review.xlsx')\n",
    "\n",
    "# unique 값 찾기\n",
    "pd.Series.unique(data.URL)"
   ]
  },
  {
   "cell_type": "code",
   "execution_count": 8,
   "metadata": {},
   "outputs": [],
   "source": [
    "# 텍스트 전처리\n",
    "def data_text_cleaning(data):\n",
    "    \n",
    "    data = sent_tokenize(data)  # 문장자르기\n",
    "    \n",
    "    # 소문자 변환\n",
    "    data = [i.lower() for i in data]\n",
    " \n",
    "    # 영문자 이외 문자는 공백으로 변환\n",
    "    data = [re.sub('[^a-z]',' ',i)  for i in data]\n",
    " \n",
    " \n",
    "    # 불용어 제거\n",
    "    stops = set(stopwords.words('english'))\n",
    "    data = [word for word in data if not word in stops]\n",
    " \n",
    "    # 어간 추출\n",
    "    stemmer = SnowballStemmer('english')\n",
    "    stemmer_words = [stemmer.stem(word) for word in data]\n",
    "    \n",
    "    # 음소표기법\n",
    "    wordnet_lemmatizer = WordNetLemmatizer()\n",
    "    lemma_word = [wordnet_lemmatizer.lemmatize(w) for w in stemmer_words]\n",
    "   \n",
    "    return  ' '.join(lemma_word)\n"
   ]
  },
  {
   "cell_type": "code",
   "execution_count": 9,
   "metadata": {},
   "outputs": [],
   "source": [
    "# 텍스트 전처리 후 후기 제목과 내용만 파일저장\n",
    "def csv_file_save(data,num):\n",
    "    lst1 = []\n",
    "    lst2 = []\n",
    "    for i in range(len(data)):\n",
    "        a = data_text_cleaning(data.Title.iloc[i])  # title : 리뷰제목 추출\n",
    "        b = data_text_cleaning(data.Content.iloc[i]) # content : 리뷰내용 추출\n",
    "        lst1.append(a)\n",
    "        lst2.append(b)\n",
    "    \n",
    "    lst1 = pd.Series(lst1)\n",
    "    lst2 = pd.Series(lst2)\n",
    "    lst3 = pd.concat([lst1,lst2],axis=1) # merge\n",
    "    lst3.columns = ['Title','Content']\n",
    "    lst3.to_csv(f'C:/Python/stuff{num}_review.csv',index=None,encoding='utf-8') # 각 URL별 파일 저장"
   ]
  },
  {
   "cell_type": "code",
   "execution_count": 10,
   "metadata": {
    "collapsed": true
   },
   "outputs": [],
   "source": [
    "# 조건 검색 : 각 제품별 review 갯수\n",
    "stuff1 = data.loc[data['URL']==pd.Series.unique(data.URL)[0]][['Title','Content']] # 636\n",
    "stuff2 = data.loc[data['URL']==pd.Series.unique(data.URL)[1]][['Title','Content']] # 26\n",
    "stuff3 = data.loc[data['URL']==pd.Series.unique(data.URL)[2]][['Title','Content']] # 41\n",
    "stuff4 = data.loc[data['URL']==pd.Series.unique(data.URL)[3]][['Title','Content']] # 85\n",
    "stuff5 = data.loc[data['URL']==pd.Series.unique(data.URL)[4]][['Title','Content']] # 502\n",
    "stuff6 = data.loc[data['URL'].isnull()][['Title','Content']] # 2650 : 상품 url 존재 x"
   ]
  },
  {
   "cell_type": "code",
   "execution_count": 14,
   "metadata": {},
   "outputs": [],
   "source": [
    "# file save\n",
    "names = [stuff1,stuff2,stuff3,stuff4,stuff5,stuff6]\n",
    "for i in range(len(names)):\n",
    "    csv_file_save(names[i],i+1)"
   ]
  }
 ],
 "metadata": {
  "kernelspec": {
   "display_name": "Python 3",
   "language": "python",
   "name": "python3"
  },
  "language_info": {
   "codemirror_mode": {
    "name": "ipython",
    "version": 3
   },
   "file_extension": ".py",
   "mimetype": "text/x-python",
   "name": "python",
   "nbconvert_exporter": "python",
   "pygments_lexer": "ipython3",
   "version": "3.8.5"
  }
 },
 "nbformat": 4,
 "nbformat_minor": 4
}
