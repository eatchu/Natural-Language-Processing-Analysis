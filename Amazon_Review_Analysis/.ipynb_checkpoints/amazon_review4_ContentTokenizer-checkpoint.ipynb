{
 "cells": [
  {
   "cell_type": "code",
   "execution_count": 1,
   "metadata": {},
   "outputs": [],
   "source": [
    "\n",
    "import pandas as pd\n",
    "from textblob import TextBlob\n",
    "\n"
   ]
  },
  {
   "cell_type": "code",
   "execution_count": 2,
   "metadata": {},
   "outputs": [],
   "source": [
    "def sentiment_solution(i):\n",
    "    review = pd.read_csv(f'C:/Python/stuff{i}_review.csv')   \n",
    "    lst = list(review.iloc[:,0])   \n",
    " \n",
    "    # 감성분석 (전체 리뷰)\n",
    "    review['sentiment'] = review.iloc[:,0].apply(lambda lst: TextBlob(lst).sentiment)\n",
    "    return review.sentiment\n"
   ]
  },
  {
   "cell_type": "code",
   "execution_count": 4,
   "metadata": {
    "scrolled": true
   },
   "outputs": [
    {
     "name": "stdout",
     "output_type": "stream",
     "text": [
      "0                      (0.0, 0.0)\n",
      "1                      (0.0, 0.0)\n",
      "2                      (0.0, 0.0)\n",
      "3      (0.28, 0.6199999999999999)\n",
      "4                      (0.1, 0.4)\n",
      "                  ...            \n",
      "631     (0.5, 0.8888888888888888)\n",
      "632                    (0.0, 0.0)\n",
      "633                    (0.0, 0.0)\n",
      "634     (0.7, 0.6000000000000001)\n",
      "635                    (0.0, 0.0)\n",
      "Name: sentiment, Length: 636, dtype: object\n"
     ]
    }
   ],
   "source": [
    "\n",
    "one = sentiment_solution(1)\n",
    "two = sentiment_solution(2)\n",
    "three = sentiment_solution(3)\n",
    "four = sentiment_solution(4)\n",
    "five = sentiment_solution(5)\n",
    "\n",
    "\n",
    "print(one)"
   ]
  },
  {
   "cell_type": "code",
   "execution_count": 5,
   "metadata": {},
   "outputs": [],
   "source": [
    "\n",
    "def new_solution(data):\n",
    "    lst = []\n",
    "    soso = 0\n",
    "    good = 0\n",
    "    bad = 0\n",
    "    for i in range(len(data.iloc[:])):\n",
    "        if data.iloc[i][0] == 0:\n",
    "            lst.append('중성')\n",
    "            soso += 1\n",
    "        elif 0.5 >= data.iloc[i][0] > 0:\n",
    "            lst.append('긍정')\n",
    "            good += 1\n",
    "        elif data.iloc[i][0] > 0.5:\n",
    "            lst.append('아주 긍정')\n",
    "            good += 1\n",
    "        elif -0.5 <= data.iloc[i][0] < 0 :\n",
    "            lst.append('부정')\n",
    "            bad += 1\n",
    "        elif data.iloc[i][0] < -0.5:\n",
    "            lst.append('아주 부정')\n",
    "            bad += 1\n",
    "    return lst, ['부정:%d'%(bad), '중성:%d'%(soso),'긍정:%d'%(good)]\n"
   ]
  },
  {
   "cell_type": "code",
   "execution_count": 6,
   "metadata": {
    "scrolled": true
   },
   "outputs": [
    {
     "name": "stdout",
     "output_type": "stream",
     "text": [
      "0                           중성\n",
      "1                           중성\n",
      "2                           중성\n",
      "3                           긍정\n",
      "4                           긍정\n",
      "                ...           \n",
      "632                         중성\n",
      "633                         중성\n",
      "634                      아주 긍정\n",
      "635                         중성\n",
      "636    [부정:59, 중성:299, 긍정:278]\n",
      "Length: 637, dtype: object\n"
     ]
    }
   ],
   "source": [
    "one2,cnt1 = new_solution(one) # ['부정:139', '중성:45', '긍정:452'] 636 21%부정 71%긍정 1:3\n",
    "two2,cnt2 = new_solution(two) # ['부정:5', '중성:4', '긍정:17'] 26 19%부정 65%긍정 1:3\n",
    "three2,cnt3 = new_solution(three) # ['부정:3', '중성:7', '긍정:31'] 41 7%부정 75%긍정 1:10\n",
    "four2,cnt4 = new_solution(four) # ['부정:21', '중성:7', '긍정:57'] 85 24%부정 67%긍정 1:2.5\n",
    "five2,cnt5 = new_solution(five) # ['부정:131', '중성:6', '긍정:365'] 502 26%부정 72%긍정 1:3\n",
    "\n",
    "\n",
    "one2.append(cnt1)\n",
    "two2.append(cnt2)\n",
    "three2.append(cnt3)\n",
    "four2.append(cnt4)\n",
    "five2.append(cnt5)\n",
    "\n",
    "\n",
    "one2 = pd.Series(one2)\n",
    "two2 = pd.Series(two2)\n",
    "three2 = pd.Series(three2)\n",
    "four2 = pd.Series(four2)\n",
    "five2 = pd.Series(five2)\n",
    "\n",
    "print(one2)\n"
   ]
  }
 ],
 "metadata": {
  "kernelspec": {
   "display_name": "Python 3",
   "language": "python",
   "name": "python3"
  },
  "language_info": {
   "codemirror_mode": {
    "name": "ipython",
    "version": 3
   },
   "file_extension": ".py",
   "mimetype": "text/x-python",
   "name": "python",
   "nbconvert_exporter": "python",
   "pygments_lexer": "ipython3",
   "version": "3.8.5"
  }
 },
 "nbformat": 4,
 "nbformat_minor": 4
}
